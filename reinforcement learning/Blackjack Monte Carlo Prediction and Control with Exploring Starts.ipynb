{
 "cells": [
  {
   "cell_type": "markdown",
   "metadata": {},
   "source": [
    "This notebook implements Monte Carlo control with exploring starts policy for the Blackjack environment, described in Chapter 5 of Sutton's book. \n",
    "\n",
    "In particular, it replicated this optimal control policy: \n",
    "![mc-control.png](../images/mc-control.png)"
   ]
  },
  {
   "cell_type": "code",
   "execution_count": 7,
   "metadata": {},
   "outputs": [
    {
     "name": "stdout",
     "output_type": "stream",
     "text": [
      "3.7.1rc1\n"
     ]
    }
   ],
   "source": [
    "import platform\n",
    "print(platform.python_version()) # >=3.7.1rc1 required for dataclass\n",
    "\n",
    "from dataclasses import dataclass\n",
    "from enum import Enum\n",
    "\n",
    "import numpy as np\n",
    "\n",
    "%matplotlib inline\n",
    "import matplotlib\n",
    "import matplotlib.pyplot as plt"
   ]
  },
  {
   "cell_type": "code",
   "execution_count": 4,
   "metadata": {},
   "outputs": [],
   "source": [
    "import random\n",
    "class Deck:\n",
    "    def __init__(self, seed:int=42):\n",
    "        self.seed = seed\n",
    "        random.seed(self.seed)\n",
    "        \n",
    "        self._cards = list(range(1, 10)) + [10] * 4\n",
    "    \n",
    "    def draw(self) -> int:\n",
    "        '''\n",
    "        with probability 1/13, it returns 1 to 9, where 1 is Ace\n",
    "        with probability 4/13, it returns 10\n",
    "        this is where I wish I can use sealed traits to represent cards, instead of int\n",
    "        '''\n",
    "        return random.choice(self._cards)"
   ]
  },
  {
   "cell_type": "code",
   "execution_count": 3,
   "metadata": {},
   "outputs": [
    {
     "name": "stdout",
     "output_type": "stream",
     "text": [
      "10 3179\n",
      "2 780\n",
      "1 714\n",
      "5 752\n",
      "4 723\n",
      "3 782\n",
      "9 775\n",
      "7 743\n",
      "8 791\n",
      "6 761\n"
     ]
    }
   ],
   "source": [
    "# test the deck out\n",
    "deck = Deck()\n",
    "assert(len(deck._cards) == 13)\n",
    "\n",
    "distribution = {}\n",
    "for i in range(0, int(1e4)):\n",
    "    card = deck.draw()\n",
    "    distribution[card] = distribution.get(card, 0) + 1\n",
    "\n",
    "for card, count in distribution.items():\n",
    "    print(card, count) # 10 should have roughly 4x more than others"
   ]
  },
  {
   "cell_type": "code",
   "execution_count": 4,
   "metadata": {},
   "outputs": [],
   "source": [
    "# helper function to get sum of cards, considering whether to use ace as 11 or not\n",
    "def sum_cards(cards) -> int:\n",
    "    if 1 in cards:\n",
    "        if sum(cards) + 10 <= 21:\n",
    "            return sum(cards) + 10\n",
    "        else:\n",
    "            return sum(cards)\n",
    "    else:\n",
    "        return sum(cards)\n",
    "    \n",
    "# test\n",
    "assert(sum_cards([2,3]) == 5)\n",
    "assert(sum_cards([1,5]) == 16)\n",
    "assert(sum_cards([1,5,10]) == 16)\n",
    "assert(sum_cards([1,1]) == 12)\n",
    "assert(sum_cards([1,1,1]) == 13)"
   ]
  },
  {
   "cell_type": "code",
   "execution_count": 8,
   "metadata": {},
   "outputs": [],
   "source": [
    "# MDP classes\n",
    "@dataclass\n",
    "class State:\n",
    "    current_sum: int\n",
    "    showing_card_from_dealer: int\n",
    "    has_usable_ace: bool\n",
    "        \n",
    "    def __str__(self):\n",
    "        return \"%d-%d-%s\" % (self.current_sum, self.showing_card_from_dealer, self.has_usable_ace)\n",
    "        \n",
    "class Action(Enum):\n",
    "    HIT = 1\n",
    "    STICK = 2"
   ]
  },
  {
   "cell_type": "code",
   "execution_count": 9,
   "metadata": {},
   "outputs": [],
   "source": [
    "from abc import ABC, abstractmethod\n",
    "\n",
    "class Policy(ABC):\n",
    "    def __init__(self, debug=False):\n",
    "        self._debug = debug\n",
    "        \n",
    "    @abstractmethod\n",
    "    def pi(self, state:State) -> Action:\n",
    "        ..."
   ]
  },
  {
   "cell_type": "code",
   "execution_count": 11,
   "metadata": {},
   "outputs": [],
   "source": [
    "class Policy1(Policy):\n",
    "    '''\n",
    "    stick if sum is 20 or 21, hit otherwise\n",
    "    @param:\n",
    "    is_first: whether this is the first action in one episode, used for exploring starts\n",
    "    ''' \n",
    "    def pi(self, state:State, is_first:bool=False) -> Action:\n",
    "        if self._debug:\n",
    "            print(\"[policy debug] received state\", state)\n",
    "        if state.current_sum >= 20:\n",
    "            return Action.STICK\n",
    "        else:\n",
    "            return Action.HIT"
   ]
  },
  {
   "cell_type": "code",
   "execution_count": 8,
   "metadata": {},
   "outputs": [],
   "source": [
    "class BlackjackEnv:\n",
    "    def __init__(self, seed:int = 42, debug = False):\n",
    "        self._deck = Deck(seed)\n",
    "        self._debug = debug\n",
    "        self._dealer_cards = []\n",
    "        self._player_cards = []\n",
    "        self._state = None\n",
    "        \n",
    "    def reset(self) -> (State, int, bool):\n",
    "        '''\n",
    "        The game begins with two cards dealt to both dealer and player. \n",
    "        Dealer's first card is faced up and the other faced down. \n",
    "        If the player has 21 immediately (an ace and a 10-card), it is called a natural. \n",
    "        He then wins unless the dealer also has a natural, in which case the game is a draw.\n",
    "        \n",
    "        @returns (next state, reward, is_terminated)\n",
    "        all rewards are terminal:\n",
    "        1 if player wins\n",
    "        -1 if player loses\n",
    "        0 if it's a draw\n",
    "        '''\n",
    "        self._dealer_cards = []\n",
    "        self._player_cards = []\n",
    "        self._state = None\n",
    "        \n",
    "        player_cards = [self._deck.draw(), self._deck.draw()]\n",
    "        dealer_cards = [self._deck.draw(), self._deck.draw()]\n",
    "        \n",
    "        self._player_cards = player_cards\n",
    "        self._dealer_cards = dealer_cards\n",
    "        \n",
    "        if self._debug:\n",
    "            print(\"[env debug] player's first two cards: \", player_cards)\n",
    "            print(\"[env debug] dealer's first two cards: \", dealer_cards)\n",
    "        \n",
    "        state = State(\n",
    "            sum_cards(player_cards),\n",
    "            dealer_cards[0],\n",
    "            1 in player_cards and sum(player_cards) + 10 <= 21\n",
    "        )\n",
    "        self._state = state\n",
    "        \n",
    "        if set(player_cards) == set([1,10]):\n",
    "            if set(dealer_cards) == set([1,10]): # draw\n",
    "                return (state, 0, True)\n",
    "            else: # win\n",
    "                return (state, 1, True)\n",
    "        else: # game continues\n",
    "            return (state, 0, False)\n",
    "    \n",
    "    def step(self, action:Action) -> (State, int, bool):\n",
    "        '''\n",
    "        @returns\n",
    "        same as reset(self)\n",
    "        '''\n",
    "        if action == Action.STICK:\n",
    "            # dealer sticks when sum >= 17, and hit otherwise\n",
    "            # dealer loses if goes bust, else compare final sum\n",
    "            dealer_sum = sum_cards(self._dealer_cards)\n",
    "            while dealer_sum < 17: \n",
    "                card = self._deck.draw()\n",
    "                if self._debug:\n",
    "                    print(\"[env debug] draw card for dealer\", card)\n",
    "                self._dealer_cards.append(card)\n",
    "                dealer_sum = sum_cards(self._dealer_cards)\n",
    "            \n",
    "            if dealer_sum > 21: # dealer goes bust\n",
    "                return (self._state, 1, True)\n",
    "\n",
    "            # compare final sum\n",
    "            if self._state.current_sum > dealer_sum:\n",
    "                return (self._state, 1, True)\n",
    "            elif self._state.current_sum == dealer_sum:\n",
    "                return (self._state, 0, True)\n",
    "            else:\n",
    "                return (self._state, -1, True)\n",
    "        \n",
    "        else:\n",
    "            # draw one more card for player\n",
    "            card = self._deck.draw()\n",
    "            self._player_cards.append(card)\n",
    "            if self._debug:\n",
    "                print(\"[env debug] draw card for player\", card, self._player_cards)\n",
    "            player_sum = sum_cards(self._player_cards)\n",
    "            state = State(\n",
    "                player_sum,\n",
    "                self._state.showing_card_from_dealer, \n",
    "                1 in self._player_cards and sum(self._player_cards) + 10 <= 21\n",
    "            )\n",
    "            self._state = state\n",
    "            \n",
    "            # check if player has busted or not\n",
    "            if player_sum > 21:\n",
    "                return (state, -1, True)\n",
    "            else:\n",
    "                return (state, 0, False)\n",
    "            \n",
    "    def info(self):\n",
    "        print(\"[env info] player cards:\", self._player_cards)\n",
    "        print(\"[env info] dealer cards:\", self._dealer_cards)"
   ]
  },
  {
   "cell_type": "code",
   "execution_count": 9,
   "metadata": {},
   "outputs": [],
   "source": [
    "def simulate(env, policy):\n",
    "    '''\n",
    "    simulate one episode\n",
    "    @return: (episode, reward)\n",
    "    where episode is a list of [state, action, state, action, ..., final_state]\n",
    "    '''\n",
    "    observation, reward, done = env.reset()\n",
    "    episode = [observation]\n",
    "    if done:\n",
    "        return (episode, reward)\n",
    "    else:\n",
    "        action = policy.pi(observation, is_first=True)\n",
    "        observation, reward, done = env.step(action)\n",
    "        episode += [action, observation]\n",
    "\n",
    "        while not done:\n",
    "            action = policy.pi(observation)\n",
    "            observation, reward, done = env.step(action)\n",
    "            episode += [action, observation]\n",
    "\n",
    "        return (episode, reward)"
   ]
  },
  {
   "cell_type": "code",
   "execution_count": 10,
   "metadata": {},
   "outputs": [
    {
     "name": "stdout",
     "output_type": "stream",
     "text": [
      "[env debug] player's first two cards:  [10, 2]\n",
      "[env debug] dealer's first two cards:  [1, 10]\n",
      "[policy debug] received state 12-1-False\n",
      "[env debug] draw card for player 5 [10, 2, 5]\n",
      "[policy debug] received state 17-1-False\n",
      "[env debug] draw card for player 4 [10, 2, 5, 4]\n",
      "[policy debug] received state 21-1-False\n",
      "[episode] 12-1-False\n",
      "[episode] Action.HIT\n",
      "[episode] 17-1-False\n",
      "[episode] Action.HIT\n",
      "[episode] 21-1-False\n",
      "[episode] Action.STICK\n",
      "[episode] 21-1-False\n",
      "0\n",
      "[env info] player cards: [10, 2, 5, 4]\n",
      "[env info] dealer cards: [1, 10]\n"
     ]
    }
   ],
   "source": [
    "# test blackjack env\n",
    "env = BlackjackEnv(seed=42, debug=True)\n",
    "policy = Policy1(debug=True)\n",
    "\n",
    "episode, reward = simulate(env, policy)\n",
    "for i in episode:\n",
    "    print(\"[episode]\", i)\n",
    "print(reward)\n",
    "env.info()"
   ]
  },
  {
   "cell_type": "code",
   "execution_count": 11,
   "metadata": {},
   "outputs": [],
   "source": [
    "# visualize policy graph w.r.t total 200 possible states, see Figure 5.2\n",
    "def visualize(policy:Policy):\n",
    "    '''\n",
    "    visualise policy; above the cutoff line is STICK region, below is HIT\n",
    "    '''    \n",
    "    def stick_cutoff(has_usable_ace:bool):\n",
    "        # get the separation between HIT and STICK \n",
    "        result = []\n",
    "        for showing_card_from_dealer in range(1, 11):\n",
    "            for player_sum in range(12, 22):\n",
    "                state = State(player_sum, showing_card_from_dealer, has_usable_ace)\n",
    "                action = policy.pi(state)\n",
    "                if action == Action.STICK:\n",
    "                    result.append(player_sum)\n",
    "                    break\n",
    "        return result\n",
    "                        \n",
    "    ys_with_ace = stick_cutoff(True)\n",
    "    ys_without_ace = stick_cutoff(False)\n",
    "                \n",
    "    plt.figure(1)\n",
    "    plt.subplots_adjust(wspace = 0.5)\n",
    "    \n",
    "    plt.subplot(121)\n",
    "    plt.title(\"with usable ace\")\n",
    "    plt.xlabel(\"dealer showing\")\n",
    "    plt.ylabel(\"player sum\")\n",
    "    plt.xticks(np.arange(1,11,1))\n",
    "    plt.yticks(np.arange(12,22,1))\n",
    "    plt.plot(list(range(1,11)),ys_with_ace)\n",
    "    \n",
    "    plt.subplot(122)\n",
    "    plt.title(\"without usable ace\")\n",
    "    plt.xlabel(\"dealer showing\")\n",
    "    plt.ylabel(\"player sum\")\n",
    "    plt.xticks(np.arange(1,11,1))\n",
    "    plt.yticks(np.arange(12,22,1))\n",
    "    plt.plot(list(range(1,11)),ys_without_ace)"
   ]
  },
  {
   "cell_type": "code",
   "execution_count": 12,
   "metadata": {},
   "outputs": [
    {
     "data": {
      "image/png": "[encoded data removed]",
      "text/plain": [
       "<Figure size 432x288 with 2 Axes>"
      ]
     },
     "metadata": {
      "needs_background": "light"
     },
     "output_type": "display_data"
    }
   ],
   "source": [
    "visualize(Policy1())"
   ]
  },
  {
   "cell_type": "code",
   "execution_count": 14,
   "metadata": {},
   "outputs": [],
   "source": [
    "class MCPolicy(Policy):\n",
    "    '''\n",
    "    first visit MC control policy\n",
    "    '''\n",
    "    def __init__(self, seed=42, debug=False):\n",
    "        self.initialise_q()\n",
    "        self.seed = seed\n",
    "        super().__init__(debug)\n",
    "    \n",
    "    def initialise_q(self):\n",
    "        self.q = {}\n",
    "        for player_sum in range(12, 22):\n",
    "            for showing_card_from_dealer in range(1, 11):\n",
    "                for has_usable_ace in [True, False]:\n",
    "                    state = State(player_sum, showing_card_from_dealer, has_usable_ace)\n",
    "                    self.q[str(state)] = {\n",
    "                        Action.HIT: {\"count\":0, \"q\":0.0},\n",
    "                        Action.STICK: {\"count\":0, \"q\":0.0}\n",
    "                    }\n",
    "    \n",
    "    def pi(self, state:State, is_first:bool=False) -> Action:\n",
    "        if self._debug:\n",
    "            print(\"[policy debug] received state\", state)\n",
    "        if state.current_sum <= 11:\n",
    "            return Action.HIT\n",
    "        else:\n",
    "            if is_first: # exploring start\n",
    "                if self._debug:\n",
    "                    print(\"[policy debug] exploring starts\")\n",
    "                return random.choice([Action.HIT, Action.STICK])\n",
    "            else:\n",
    "                q = self.q[str(state)]\n",
    "                if q[Action.HIT]['q'] > q[Action.STICK]['q']:\n",
    "                    return Action.HIT\n",
    "                elif q[Action.HIT]['q'] < q[Action.STICK]['q']:\n",
    "                    return Action.STICK\n",
    "                else:\n",
    "                    return random.choice([Action.HIT, Action.STICK])\n",
    "        \n",
    "    def update_q(self, episode, reward):\n",
    "        '''\n",
    "        episode is [state, action, state, action, ..., final_state]\n",
    "        '''\n",
    "        seen = set()\n",
    "        for (state, action) in [(episode[i], episode[i+1]) for i in range(0, len(episode)-1, 2)]:\n",
    "            key = \"%r-%s\" % (state, action)\n",
    "            if key not in seen:\n",
    "                seen.add(key)\n",
    "                # incrementally update average\n",
    "                if str(state) in self.q.keys():\n",
    "                    # this if is necessary because we may receive state where player_sum <= 11\n",
    "                    # in this case we always HIT, so it's not an interesting space\n",
    "                    new_count = self.q[str(state)][action]['count'] + 1\n",
    "                    current_average = self.q[str(state)][action]['q']\n",
    "                    new_average = current_average + 1./new_count*(reward-current_average) \n",
    "                    self.q[str(state)][action]['count'] = new_count\n",
    "                    self.q[str(state)][action]['q'] = new_average\n",
    "    \n",
    "    def show(self):\n",
    "        '''\n",
    "        output q values where count > 0\n",
    "        '''\n",
    "        for state in self.q.keys():\n",
    "            if self.q[state][Action.HIT]['count'] > 0 or self.q[state][Action.STICK]['count'] > 0:\n",
    "                print(\"[policy debug] updated q value for state \", state, self.q[state])"
   ]
  },
  {
   "cell_type": "code",
   "execution_count": 14,
   "metadata": {
    "scrolled": true
   },
   "outputs": [
    {
     "name": "stdout",
     "output_type": "stream",
     "text": [
      "iteration  0\n",
      "iteration  1000000\n",
      "iteration  2000000\n",
      "iteration  3000000\n",
      "iteration  4000000\n",
      "iteration  5000000\n",
      "iteration  6000000\n",
      "iteration  7000000\n",
      "iteration  8000000\n",
      "iteration  9000000\n"
     ]
    }
   ],
   "source": [
    "debug = False\n",
    "seed = 42\n",
    "policy = MCPolicy(seed=seed, debug=debug)\n",
    "env = BlackjackEnv(seed=seed+1, debug=debug)\n",
    "\n",
    "for i in range(int(1e7)):\n",
    "    if i % 1e6 == 0:\n",
    "        print(\"iteration \", i)\n",
    "#     print(\"===== new simulation\")\n",
    "    episode,reward = simulate(env, policy)\n",
    "#     print(\"[simulate debug] iteration:\", i, \"reward:\", reward, \"final state:\", episode[-1], \"dealer cards:\", env._dealer_cards)\n",
    "#     for state in episode:\n",
    "#         print(\"[simulate debug]\", state)\n",
    "    policy.update_q(episode, reward)\n",
    "\n",
    "# policy.show()"
   ]
  },
  {
   "cell_type": "code",
   "execution_count": 15,
   "metadata": {},
   "outputs": [
    {
     "data": {
      "image/png": "[encoded data removed]",
      "text/plain": [
       "<Figure size 432x288 with 2 Axes>"
      ]
     },
     "metadata": {
      "needs_background": "light"
     },
     "output_type": "display_data"
    }
   ],
   "source": [
    "visualize(policy)"
   ]
  },
  {
   "cell_type": "code",
   "execution_count": null,
   "metadata": {},
   "outputs": [],
   "source": [
    "# for debug purpose\n",
    "for s in range(12,22):\n",
    "    state = State(s, 4, True)\n",
    "    print(s, policy.pi(state), policy.q[str(state)])"
   ]
  },
  {
   "cell_type": "code",
   "execution_count": null,
   "metadata": {},
   "outputs": [],
   "source": []
  }
 ],
 "metadata": {
  "kernelspec": {
   "display_name": "Python 3",
   "language": "python",
   "name": "python3"
  },
  "language_info": {
   "codemirror_mode": {
    "name": "ipython",
    "version": 3
   },
   "file_extension": ".py",
   "mimetype": "text/x-python",
   "name": "python",
   "nbconvert_exporter": "python",
   "pygments_lexer": "ipython3",
   "version": "3.7.1rc1"
  }
 },
 "nbformat": 4,
 "nbformat_minor": 2
}
